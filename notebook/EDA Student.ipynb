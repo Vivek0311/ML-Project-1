{
 "cells": [
  {
   "cell_type": "markdown",
   "metadata": {},
   "source": [
    "1. Problem statement\n",
    "   • This project understands how the student's performance (test scores) is affected by other variables such as Gender, Ethnicity,\n",
    "   Parental level of education, Lunch and Test preparation course."
   ]
  },
  {
   "cell_type": "code",
   "execution_count": null,
   "metadata": {},
   "outputs": [],
   "source": [
    "import pandas as pd\n",
    "import numpy as np\n",
    "import seaborn as sns\n",
    "import matplotlib.pyplot as plt\n",
    "%matplotlib inline\n",
    "import warnings\n",
    "\n",
    "warnings.filterwarnings('ignore')"
   ]
  },
  {
   "cell_type": "code",
   "execution_count": null,
   "metadata": {},
   "outputs": [],
   "source": [
    "df = pd.read_csv(\"data/stud.csv\")"
   ]
  },
  {
   "cell_type": "code",
   "execution_count": null,
   "metadata": {},
   "outputs": [],
   "source": [
    "df.head()"
   ]
  },
  {
   "cell_type": "code",
   "execution_count": null,
   "metadata": {},
   "outputs": [],
   "source": [
    "df.shape"
   ]
  },
  {
   "cell_type": "markdown",
   "metadata": {},
   "source": [
    "2.2 Dataset information\n",
    "1. gender : sex of students -> (Male/female)\n",
    "2. race/ethnicgy : ethnicity of students -> (Group A, B,C, D,E)\n",
    "3. parental level of education : parents' final education ->(bachelor's degree, some college, master's degree, associate's degree, high school)\n",
    "4. lunch : having lunch before test (standard or free/reduced)\n",
    "5. test preparation course : complete or not complete before test\n",
    "6. math score\n",
    "7. reading score\n",
    "8. writing score"
   ]
  },
  {
   "cell_type": "markdown",
   "metadata": {},
   "source": [
    "3. Data Checks to perform\n",
    "• Check Missing values\n",
    "• Check Duplicates\n",
    "• Check data type\n",
    "• Check the number of unique values of each column\n",
    "• Check statistics of data set\n",
    "• Check various categories present in the different categorical column"
   ]
  },
  {
   "cell_type": "markdown",
   "metadata": {},
   "source": [
    "3.1 Check Missing values"
   ]
  },
  {
   "cell_type": "code",
   "execution_count": null,
   "metadata": {},
   "outputs": [],
   "source": [
    "df.isna().sum()"
   ]
  },
  {
   "cell_type": "markdown",
   "metadata": {},
   "source": [
    "There are no missing values in the data set"
   ]
  },
  {
   "cell_type": "markdown",
   "metadata": {},
   "source": [
    "3.2 Check Duplicates"
   ]
  },
  {
   "cell_type": "code",
   "execution_count": null,
   "metadata": {},
   "outputs": [],
   "source": [
    "df.duplicated().sum()"
   ]
  },
  {
   "cell_type": "code",
   "execution_count": null,
   "metadata": {},
   "outputs": [],
   "source": [
    "if df.duplicated().sum() > 0:\n",
    "    df = df.drop_duplicates().reset_index(drop=True)"
   ]
  },
  {
   "cell_type": "markdown",
   "metadata": {},
   "source": [
    "3.3 Check data types"
   ]
  },
  {
   "cell_type": "code",
   "execution_count": null,
   "metadata": {},
   "outputs": [],
   "source": [
    "df.info()"
   ]
  },
  {
   "cell_type": "markdown",
   "metadata": {},
   "source": [
    "3.4 Checking the number of unique values of each column"
   ]
  },
  {
   "cell_type": "code",
   "execution_count": null,
   "metadata": {},
   "outputs": [],
   "source": [
    "df.nunique()"
   ]
  },
  {
   "cell_type": "markdown",
   "metadata": {},
   "source": [
    "3.5 Check statistics of data set"
   ]
  },
  {
   "cell_type": "code",
   "execution_count": null,
   "metadata": {},
   "outputs": [],
   "source": [
    "df.describe()"
   ]
  },
  {
   "cell_type": "markdown",
   "metadata": {},
   "source": [
    "Insight\n",
    "• From above description Of numerical data, all means are very close to each Other - between 66 and 68.05;\n",
    "• All standard deviations are also close - between 14_6 and 15.19;\n",
    "• While there is a minimum score O for math, for writing minimum is much higher = 10 and for reading myet higher = 17"
   ]
  },
  {
   "cell_type": "markdown",
   "metadata": {},
   "source": [
    "3.7 Exploring Data"
   ]
  },
  {
   "cell_type": "code",
   "execution_count": null,
   "metadata": {},
   "outputs": [],
   "source": [
    "print(\"Categories in 'gender' variable: \", end=\" \")\n",
    "print(df[\"gender\"].unique())\n",
    "\n",
    "print(\"Categories in 'race_ethnicity' variable: \", end=\" \")\n",
    "print(df[\"race_ethnicity\"].unique())\n",
    "\n",
    "print(\"Categories in'parental_level_of_education' variable: \", end=\" \")\n",
    "print(df[\"parental_level_of_education\"].unique())\n",
    "\n",
    "print(\"Categories in 'lunch' variable: \", end=\" \")\n",
    "print(df[\"lunch\"].unique())\n",
    "\n",
    "print(\"Categories in 'test preparation course' variable: \", end=\" \")\n",
    "print(df[\"test_preparation_course\"].unique())"
   ]
  },
  {
   "cell_type": "code",
   "execution_count": null,
   "metadata": {},
   "outputs": [],
   "source": [
    "# define numerical & categorical columns\n",
    "# here \"O\" is object\n",
    "numeric_features = [feature for feature in df.columns if df[feature].dtype != \"O\"]\n",
    "categorical_features = [feature for feature in df.columns if df[feature].dtype == \"O\"]\n",
    "\n",
    "# print columns\n",
    "print(\"We have numerical features: {}\".format(len(numeric_features)), numeric_features)\n",
    "print(\n",
    "    \" \\nWe have categorical features .{}\".format(len(categorical_features)),\n",
    "    categorical_features,\n",
    ")"
   ]
  },
  {
   "cell_type": "markdown",
   "metadata": {},
   "source": [
    "3.8 Adding columns for \"Total Score\" and \"Average\""
   ]
  },
  {
   "cell_type": "code",
   "execution_count": null,
   "metadata": {},
   "outputs": [],
   "source": [
    "df[\"total_score\"] = df[\"math_score\"] + df[\"reading_score\"] + df[\"writing_score\"]\n",
    "df[\"average\"] = df[\"total_score\"] / 3"
   ]
  },
  {
   "cell_type": "code",
   "execution_count": null,
   "metadata": {},
   "outputs": [],
   "source": [
    "reading_full = df[df[\"reading_score\"] == 100][\"average\"].count()\n",
    "writing_full = df[df[\"writing_score\"] == 100][\"average\"].count()\n",
    "math_full = df[df[\"math_score\"] == 100][\"average\"].count()\n",
    "\n",
    "print(f\"Number of students With full marks in Maths: {math_full}\")\n",
    "print(f\"Number of students With full marks in Writing: {writing_full}\")\n",
    "print(f\"Number of students With full marks in Reading: { reading_full}\")"
   ]
  },
  {
   "cell_type": "code",
   "execution_count": null,
   "metadata": {},
   "outputs": [],
   "source": [
    "reading_less_20 = df[df[\"reading_score\"] <= 20][\"average\"].count()\n",
    "writing_less_20 = df[df[\"writing_score\"] <= 20][\"average\"].count()\n",
    "math_less_20 = df[df[\"math_score\"] <= 20][\"average\"].count()\n",
    "\n",
    "print(f\"Number of students With less than 20 marks in Maths: {math_less_20}\")\n",
    "print(f\"Number of students With less than 20 marks in Writing: {writing_less_20}\")\n",
    "print(f\"Number of students With less than 20 marks in Reading: { reading_less_20}\")"
   ]
  },
  {
   "cell_type": "markdown",
   "metadata": {},
   "source": [
    "Insights\n",
    "• From above values we get students have performed the worst in Maths\n",
    "• Best performance is in reading section"
   ]
  },
  {
   "cell_type": "markdown",
   "metadata": {},
   "source": [
    "4. Exploring Data ( Visualization )"
   ]
  },
  {
   "cell_type": "markdown",
   "metadata": {},
   "source": [
    "4.1 Visualize average score distribution to make some conclusion.\n",
    "• Histogram\n",
    "• Kernel Distribution Function (KDE)"
   ]
  },
  {
   "cell_type": "markdown",
   "metadata": {},
   "source": [
    "4.1.1 Histogram & KDE"
   ]
  },
  {
   "cell_type": "code",
   "execution_count": null,
   "metadata": {},
   "outputs": [],
   "source": [
    "fig, axs = plt.subplots(1, 2, figsize=(15, 7))\n",
    "plt.subplot(121)\n",
    "sns.histplot(data=df, x=\"average\", bins=30, kde=True, color=\"g\")\n",
    "plt.subplot(122)\n",
    "sns.histplot(data=df, x=\"average\", kde=True, hue=\"gender\")\n",
    "plt.show()"
   ]
  },
  {
   "cell_type": "markdown",
   "metadata": {},
   "source": [
    "Insights\n",
    "• Female students tend to perform well then male students."
   ]
  },
  {
   "cell_type": "code",
   "execution_count": null,
   "metadata": {},
   "outputs": [],
   "source": [
    "fig, axs = plt.subplots(1, 2, figsize=(15, 7))\n",
    "plt.subplot(121)\n",
    "sns.histplot(data=df, x=\"total_score\", bins=30, kde=True, color=\"g\")\n",
    "plt.subplot(122)\n",
    "sns.histplot(data=df, x=\"total_score\", kde=True, hue=\"gender\")\n",
    "plt.show()"
   ]
  },
  {
   "cell_type": "markdown",
   "metadata": {},
   "source": [
    "Insights\n",
    "• Female students tend to perform well then male students."
   ]
  },
  {
   "cell_type": "code",
   "execution_count": null,
   "metadata": {
    "slideshow": {
     "slide_type": "slide"
    }
   },
   "outputs": [],
   "source": [
    "plt.subplots(1,3, figsize=(25,6))\n",
    "plt.subplot(141)\n",
    "sns.histplot(data=df, x='average', kde =True, hue='lunch')\n",
    "plt.subplot(142)\n",
    "sns.histplot(data=df[df['gender']=='female'], x='average', kde =True, hue='lunch')\n",
    "plt.subplot(143)\n",
    "sns.histplot(data=df[df.gender == 'male'], x='average', kde=True, hue='lunch')\n",
    "plt.show()"
   ]
  },
  {
   "cell_type": "markdown",
   "metadata": {},
   "source": [
    "Insights\n",
    "• Standard lunch helps perform well in exams.\n",
    "• Standard lunch helps perform well in exams be it a male or a female."
   ]
  },
  {
   "cell_type": "markdown",
   "metadata": {},
   "source": [
    "Insights\n",
    "• In general parent's education don't help student perform well in exam.\n",
    "• 2nd plot shows that parent's whose education is of associate's degree or master's degree their male child tend to perform well in exam\n",
    "• 3rd plot we can see there is no effect of parent's education on female students."
   ]
  },
  {
   "cell_type": "code",
   "execution_count": null,
   "metadata": {},
   "outputs": [],
   "source": [
    "\n",
    "plt.subplots(1,3,figsize=(25,6))\n",
    "plt.subplot(141)\n",
    "ax =sns.histplot(data=df,x='average',kde=True,hue='race_ethnicity')\n",
    "plt.subplot(142)\n",
    "ax =sns.histplot(data=df[df.gender=='female'],x='average',kde=True,hue='race_ethnicity')\n",
    "plt.subplot(143)\n",
    "ax =sns.histplot(data=df[df.gender=='male'],x='average',kde=True,hue='race_ethnicity')\n",
    "plt.show()"
   ]
  },
  {
   "cell_type": "markdown",
   "metadata": {},
   "source": [
    "Insights\n",
    "\n",
    "• Students of group A and group B tends to perform poorly in exam.\n",
    "• Students of group A and group B tends to perform poorly in exam irrespective of whether they are male or female"
   ]
  },
  {
   "cell_type": "markdown",
   "metadata": {},
   "source": [
    "4.2 Maximumum score of students in all three subjects"
   ]
  },
  {
   "cell_type": "code",
   "execution_count": null,
   "metadata": {},
   "outputs": [],
   "source": [
    "plt.figure(figsize=(18, 8))\n",
    "plt.subplot(1, 4, 1)\n",
    "plt.title(\"MATH SCORES\")\n",
    "sns.violinplot(y=\"math_score\", data=df, color=\"red\", linewidth=3)\n",
    "plt.subplot(1, 4, 2)\n",
    "plt.title(\"READING SCORES\")\n",
    "sns.violinplot(y=\"reading_score\", data=df, color=\"green\", linewidth=3)\n",
    "plt.subplot(1, 4, 3)\n",
    "plt.title(\"WRITING SCORES\")\n",
    "sns.violinplot(y=\"writing_score\", data=df, color=\"blue\", linewidth=3)\n",
    "plt.show()"
   ]
  },
  {
   "cell_type": "markdown",
   "metadata": {},
   "source": [
    "Insights\n",
    "• From the above three plots its clearly visible that most of the students score in between 60-80 in Maths whereas in reading and writing most of them score from 50-80"
   ]
  },
  {
   "cell_type": "markdown",
   "metadata": {},
   "source": [
    "4.3 Multivariate analysis using pieplot"
   ]
  },
  {
   "cell_type": "code",
   "execution_count": null,
   "metadata": {},
   "outputs": [],
   "source": [
    "plt.rcParams[\"figure.figsize\"] = (30, 12)\n",
    "\n",
    "plt.subplot(1, 5, 1)\n",
    "size = df[\"gender\"].value_counts()\n",
    "labels = \"Female\", \"Male\"\n",
    "color = [\"red\", \"green\"]\n",
    "\n",
    "\n",
    "plt.pie(size, colors=color, labels=labels, autopct=\".%2f%%\")\n",
    "plt.title(\"Gender\", fontsize=20)\n",
    "plt.axis(\"off\")\n",
    "\n",
    "\n",
    "plt.subplot(1, 5, 2)\n",
    "size = df[\"race_ethnicity\"].value_counts()\n",
    "labels = \"Group C\", \"Group D\", \"Group B\", \"Group E\", \"Group A\"\n",
    "color = [\"red\", \"green\", \"blue\", \"cyan\", \"orange\"]\n",
    "\n",
    "plt.pie(size, colors=color, labels=labels, autopct=\".%2f%%\")\n",
    "plt.title(\"Race/Ethnicity\", fontsize=20)\n",
    "plt.axis(\"off\")\n",
    "\n",
    "\n",
    "plt.subplot(1, 5, 3)\n",
    "size = df[\"lunch\"].value_counts()\n",
    "labels = \"Standard\", \"Free\"\n",
    "color = [\"red\", \"green\"]\n",
    "\n",
    "plt.pie(size, colors=color, labels=labels, autopct=\".%2f%%\")\n",
    "plt.title(\"Lunch\", fontsize=20)\n",
    "plt.axis(\"off\")\n",
    "\n",
    "\n",
    "plt.subplot(1, 5, 4)\n",
    "size = df[\"test_preparation_course\"].value_counts()\n",
    "labels = \"None\", \"Completed\"\n",
    "color = [\"red\", \"green\"]\n",
    "\n",
    "plt.pie(size, colors=color, labels=labels, autopct=\".%2f%%\")\n",
    "plt.title(\"Test Course\", fontsize=20)\n",
    "plt.axis(\"off\")\n",
    "\n",
    "\n",
    "plt.subplot(1, 5, 5)\n",
    "size = df[\"parental_level_of_education\"].value_counts()\n",
    "labels = (\n",
    "    \"Some College\",\n",
    "    \"Associate's Degree\",\n",
    "    \"High School\",\n",
    "    \"Some High School\",\n",
    "    \"Bachelor's Degree\",\n",
    "    \"Master's Degree\",\n",
    ")\n",
    "color = [\"red\", \"green\", \"blue\", \"cyan\", \"orange\", \"grey\"]\n",
    "\n",
    "plt.pie(size, colors=color, labels=labels, autopct=\".%2f%%\")\n",
    "plt.title(\"Parental Education\", fontsize=20)\n",
    "plt.axis(\"off\")\n",
    "\n",
    "\n",
    "plt.tight_layout()\n",
    "plt.grid()\n",
    "\n",
    "plt.show()"
   ]
  },
  {
   "cell_type": "markdown",
   "metadata": {},
   "source": [
    "Insights\n",
    "• Number of Male and Female students is almost equal\n",
    "• Number students are greatest in Group C\n",
    "• Number of students who have standard lunch are greater\n",
    "• Number of students who have not enrolled in any test preparation course is greater\n",
    "• Number of students whose parental education is \"Some College\" is greater followed closely by \"Associate's Degree\""
   ]
  },
  {
   "cell_type": "markdown",
   "metadata": {},
   "source": [
    "4.4 Feature Wise Visualization"
   ]
  },
  {
   "cell_type": "markdown",
   "metadata": {},
   "source": [
    "4.4.1 GENDER COLUMN\n",
    "How is distribution of Gender ?\n",
    "Is gender has any impact on student's performance ?"
   ]
  },
  {
   "cell_type": "markdown",
   "metadata": {},
   "source": [
    "UNIVARIATE ANALYSIS ( How is distribution of Gender ? )"
   ]
  },
  {
   "cell_type": "code",
   "execution_count": null,
   "metadata": {},
   "outputs": [],
   "source": [
    "f,ax=plt.subplots(1,2,figsize=(20,10))\n",
    "sns.countplot(x=df['gender'],data=df,palette ='bright',ax=ax[0],saturation=0.95)\n",
    "for container in ax[0].containers:\n",
    "    ax[0].bar_label(container,color='black',size=20)\n",
    "    \n",
    "plt.pie(x=df['gender'].value_counts(),labels=['Male','Female'],explode=[0,0.1],autopct='%1.1f%%',shadow=True,colors=['#ff4d4d','#ff8000'])\n",
    "plt.show()"
   ]
  },
  {
   "cell_type": "markdown",
   "metadata": {},
   "source": [
    "Insights\n",
    "Gender has balanced data with female students are 518 (48%) and male students are 482 (52%)"
   ]
  },
  {
   "cell_type": "markdown",
   "metadata": {},
   "source": [
    "BIVARIATE ANALYSIS ( Is gender has any impact on student's performance ? )"
   ]
  },
  {
   "cell_type": "code",
   "execution_count": null,
   "metadata": {},
   "outputs": [],
   "source": [
    "gender_group = df.groupby(\"gender\").agg({\"math_score\":\"mean\"\t,\"reading_score\" :\"mean\"\t,\"writing_score\":\"mean\",\t\"total_score\":\"mean\"\t,\"average\":\"mean\"}).reset_index()\n",
    "gender_group"
   ]
  },
  {
   "cell_type": "code",
   "execution_count": null,
   "metadata": {},
   "outputs": [],
   "source": [
    "plt.figure(figsize=(10, 8))\n",
    "\n",
    "X = [\"total_score\", \"math_score\"]\n",
    "\n",
    "\n",
    "female_scores = [gender_group[\"average\"][0], gender_group[\"math_score\"][0]]\n",
    "male_scores = [gender_group[\"average\"][1], gender_group[\"math_score\"][1]]\n",
    "\n",
    "X_axis = np.arange(len(X))\n",
    "\n",
    "plt.bar(X_axis - 0.2, male_scores, 0.4, label=\"Male\")\n",
    "plt.bar(X_axis + 0.2, female_scores, 0.4, label=\"Female\")\n",
    "\n",
    "plt.xticks(X_axis, X)\n",
    "plt.ylabel(\"Marks\")\n",
    "plt.title(\"Total average v/s Math average marks of both the genders\", fontweight=\"bold\")\n",
    "plt.legend()\n",
    "plt.show()"
   ]
  },
  {
   "cell_type": "markdown",
   "metadata": {},
   "source": [
    "Insights\n",
    "On an average females have a better overall score than men.\n",
    "whereas males have scored higher in Maths."
   ]
  },
  {
   "cell_type": "markdown",
   "metadata": {},
   "source": [
    "4.4.2 RACE/EHNICITY COLUMN\n",
    "How is Group wise distribution ?\n",
    "Is Race/Ehnicity has any impact on student's performance ?"
   ]
  },
  {
   "cell_type": "markdown",
   "metadata": {},
   "source": [
    "UNIVARIATE ANALYSIS ( How is Group wise distribution ?)"
   ]
  },
  {
   "cell_type": "code",
   "execution_count": null,
   "metadata": {},
   "outputs": [],
   "source": [
    "f,ax=plt.subplots(1,2,figsize=(20,10))\n",
    "sns.countplot(x=df['race_ethnicity'],data=df,palette = 'bright',ax=ax[0],saturation=0.95)\n",
    "for container in ax[0].containers:\n",
    "    ax[0].bar_label(container,color='black',size=20)\n",
    "    \n",
    "plt.pie(x = df['race_ethnicity'].value_counts(),labels=df['race_ethnicity'].value_counts().index,explode=[0.1,0,0,0,0],autopct='%1.1f%%',shadow=True)\n",
    "plt.show()"
   ]
  },
  {
   "cell_type": "markdown",
   "metadata": {},
   "source": [
    "Insights\n",
    "Most of the student belonging from group C /group D.\n",
    "Lowest number of students belong to groupA."
   ]
  },
  {
   "cell_type": "markdown",
   "metadata": {},
   "source": [
    "BIVARIATE ANALYSIS ( Is Race/Ehnicity has any impact on student's performance ? )"
   ]
  },
  {
   "cell_type": "code",
   "execution_count": null,
   "metadata": {},
   "outputs": [],
   "source": [
    "Group_data2 = df.groupby(\"race_ethnicity\")\n",
    "f, ax = plt.subplots(1, 3, figsize=(20, 8))\n",
    "sns.barplot(\n",
    "    x=Group_data2[\"math_score\"].mean().index,\n",
    "    y=Group_data2[\"math_score\"].mean().values,\n",
    "    palette=\"mako\",\n",
    "    ax=ax[0],\n",
    ")\n",
    "ax[0].set_title(\"Math score\", color=\"#005ce6\", size=20)\n",
    "\n",
    "for container in ax[0].containers:\n",
    "    ax[0].bar_label(container, color=\"black\", size=15)\n",
    "\n",
    "sns.barplot(\n",
    "    x=Group_data2[\"reading_score\"].mean().index,\n",
    "    y=Group_data2[\"reading_score\"].mean().values,\n",
    "    palette=\"flare\",\n",
    "    ax=ax[1],\n",
    ")\n",
    "ax[1].set_title(\"Reading score\", color=\"#005ce6\", size=20)\n",
    "\n",
    "for container in ax[1].containers:\n",
    "    ax[1].bar_label(container, color=\"black\", size=15)\n",
    "\n",
    "sns.barplot(\n",
    "    x=Group_data2[\"writing_score\"].mean().index,\n",
    "    y=Group_data2[\"writing_score\"].mean().values,\n",
    "    palette=\"coolwarm\",\n",
    "    ax=ax[2],\n",
    ")\n",
    "ax[2].set_title(\"Writing score\", color=\"#005ce6\", size=20)\n",
    "\n",
    "for container in ax[2].containers:\n",
    "    ax[2].bar_label(container, color=\"black\", size=15)"
   ]
  },
  {
   "cell_type": "markdown",
   "metadata": {},
   "source": [
    "Insights\n",
    "Group E students have scored the highest marks.\n",
    "Group A students have scored the lowest marks.\n",
    "Students from a lower Socioeconomic status have a lower avg in all course subjects"
   ]
  },
  {
   "cell_type": "markdown",
   "metadata": {},
   "source": [
    "4.4.3 PARENTAL LEVEL OF EDUCATION COLUMN\n",
    "What is educational background of student's parent ?\n",
    "Is parental education has any impact on student's performance ?"
   ]
  },
  {
   "cell_type": "markdown",
   "metadata": {},
   "source": [
    "UNIVARIATE ANALYSIS ( What is educational background of student's parent ? )"
   ]
  },
  {
   "cell_type": "code",
   "execution_count": null,
   "metadata": {},
   "outputs": [],
   "source": [
    "plt.rcParams['figure.figsize'] = (15, 9)\n",
    "plt.style.use('fivethirtyeight')\n",
    "sns.countplot(df['parental_level_of_education'], palette = 'Blues')\n",
    "plt.title('Comparison of Parental Education', fontweight = 30, fontsize = 20)\n",
    "plt.xlabel('Degree')\n",
    "plt.ylabel('count')\n",
    "plt.show()"
   ]
  },
  {
   "cell_type": "markdown",
   "metadata": {},
   "source": [
    "Insights\n",
    "Largest number of parents are from some college."
   ]
  },
  {
   "cell_type": "markdown",
   "metadata": {},
   "source": [
    "BIVARIATE ANALYSIS ( Is parental education has any impact on student's performance ? )"
   ]
  },
  {
   "cell_type": "code",
   "execution_count": null,
   "metadata": {},
   "outputs": [],
   "source": [
    "df.groupby(\"parental_level_of_education\").agg({\"lunch\": \"count\"}).plot(\n",
    "    kind=\"barh\", figsize=(10, 10)\n",
    ")\n",
    "plt.legend(bbox_to_anchor=(1.05, 1), loc=2, borderaxespad=0.0)\n",
    "plt.show()"
   ]
  },
  {
   "cell_type": "markdown",
   "metadata": {},
   "source": [
    "Insights\n",
    "The score of student whose parents possess master and bachelor level education are higher than others."
   ]
  },
  {
   "cell_type": "markdown",
   "metadata": {},
   "source": [
    "4.4.4 LUNCH COLUMN\n",
    "Which type of lunch is most common amoung students ?\n",
    "What is the effect of lunch type on test results?"
   ]
  },
  {
   "cell_type": "markdown",
   "metadata": {},
   "source": [
    "UNIVARIATE ANALYSIS ( Which type of lunch is most common amoung students ? )"
   ]
  },
  {
   "cell_type": "code",
   "execution_count": null,
   "metadata": {},
   "outputs": [],
   "source": [
    "plt.rcParams[\"figure.figsize\"] = (15, 9)\n",
    "sns.set_style(\"whitegrid\")\n",
    "sns.countplot(df[\"lunch\"], palette=\"PuBu\")\n",
    "plt.title(\"Comparison of different types of lunch\", fontweight=\"bold\", fontsize=20)\n",
    "plt.xlabel(\"types of lunch\")\n",
    "plt.ylabel(\"count\")\n",
    "plt.show()"
   ]
  },
  {
   "cell_type": "markdown",
   "metadata": {},
   "source": [
    "Insights\n",
    "Students being served Standard lunch was more than free lunch"
   ]
  },
  {
   "cell_type": "markdown",
   "metadata": {},
   "source": [
    "BIVARIATE ANALYSIS ( Is lunch type intake has any impact on student's performance ? )"
   ]
  },
  {
   "cell_type": "code",
   "execution_count": null,
   "metadata": {},
   "outputs": [],
   "source": [
    "f, ax = plt.subplots(1, 2, figsize=(20, 8))\n",
    "sns.countplot(\n",
    "    x=df[\"parental_level_of_education\"],\n",
    "    data=df,\n",
    "    palette=\"bright\",\n",
    "    hue=\"test_preparation_course\",\n",
    "    saturation=0.95,\n",
    "    ax=ax[0],\n",
    ")\n",
    "ax[0].set_title(\"Students vs test preparation course \", color=\"black\", size=25)\n",
    "for container in ax[0].containers:\n",
    "    ax[0].bar_label(container, color=\"black\", size=20)\n",
    "\n",
    "sns.countplot(\n",
    "    x=df[\"parental_level_of_education\"],\n",
    "    data=df,\n",
    "    palette=\"bright\",\n",
    "    hue=\"lunch\",\n",
    "    saturation=0.95,\n",
    "    ax=ax[1],\n",
    ")\n",
    "for container in ax[1].containers:\n",
    "    ax[1].bar_label(container, color=\"black\", size=20)"
   ]
  },
  {
   "cell_type": "markdown",
   "metadata": {},
   "source": [
    "Insights\n",
    "Students who get Standard Lunch tend to perform better than students who got free/reduced lunch"
   ]
  },
  {
   "cell_type": "markdown",
   "metadata": {},
   "source": [
    "4.4.5 TEST PREPARATION COURSE COLUMN\n",
    "Which type of lunch is most common amoung students ?\n",
    "Is Test prepration course has any impact on student's performance ?"
   ]
  },
  {
   "cell_type": "markdown",
   "metadata": {},
   "source": [
    "BIVARIATE ANALYSIS ( Is Test prepration course has any impact on student's performance ? )"
   ]
  },
  {
   "cell_type": "code",
   "execution_count": null,
   "metadata": {},
   "outputs": [],
   "source": [
    "plt.figure(figsize=(12, 6))\n",
    "plt.subplot(2, 2, 1)\n",
    "sns.barplot(x=df[\"lunch\"], y=df[\"math_score\"], hue=df[\"test_preparation_course\"])\n",
    "plt.subplot(2, 2, 2)\n",
    "sns.barplot(x=df[\"lunch\"], y=df[\"reading_score\"], hue=df[\"test_preparation_course\"])\n",
    "plt.subplot(2, 2, 3)\n",
    "sns.barplot(x=df[\"lunch\"], y=df[\"writing_score\"], hue=df[\"test_preparation_course\"])"
   ]
  },
  {
   "cell_type": "markdown",
   "metadata": {},
   "source": [
    "Insights\n",
    "Students who have completed the Test Prepration Course have scores higher in all three categories than those who haven't taken the course"
   ]
  },
  {
   "cell_type": "markdown",
   "metadata": {},
   "source": [
    "4.4.6 CHECKING OUTLIERS"
   ]
  },
  {
   "cell_type": "code",
   "execution_count": null,
   "metadata": {},
   "outputs": [],
   "source": [
    "plt.subplots(1, 4, figsize=(16, 5))\n",
    "plt.subplot(141)\n",
    "sns.boxplot(df[\"math_score\"], color=\"skyblue\")\n",
    "plt.subplot(142)\n",
    "sns.boxplot(df[\"reading_score\"], color=\"hotpink\")\n",
    "plt.subplot(143)\n",
    "sns.boxplot(df[\"writing_score\"], color=\"yellow\")\n",
    "plt.subplot(144)\n",
    "sns.boxplot(df[\"average\"], color=\"lightgreen\")\n",
    "plt.show()"
   ]
  },
  {
   "cell_type": "markdown",
   "metadata": {},
   "source": [
    "4.4.7 MUTIVARIATE ANALYSIS USING PAIRPLOT"
   ]
  },
  {
   "cell_type": "code",
   "execution_count": null,
   "metadata": {},
   "outputs": [
    {
     "ename": "",
     "evalue": "",
     "output_type": "error",
     "traceback": [
      "\u001b[1;31mThe Kernel crashed while executing code in the current cell or a previous cell. \n",
      "\u001b[1;31mPlease review the code in the cell(s) to identify a possible cause of the failure. \n",
      "\u001b[1;31mClick <a href='https://aka.ms/vscodeJupyterKernelCrash'>here</a> for more info. \n",
      "\u001b[1;31mView Jupyter <a href='command:jupyter.viewOutput'>log</a> for further details."
     ]
    }
   ],
   "source": [
    "sns.pairplot(df,hue = 'gender')\n",
    "plt.show()"
   ]
  },
  {
   "cell_type": "markdown",
   "metadata": {},
   "source": [
    "Insights\n",
    "From the above plot it is clear that all the scores increase linearly with each other."
   ]
  },
  {
   "cell_type": "markdown",
   "metadata": {},
   "source": [
    "5. Conclusions\n",
    "Student's Performance is related with lunch, race, parental level education\n",
    "Females lead in pass percentage and also are top-scorers\n",
    "Student's Performance is not much related with test preparation course\n",
    "Finishing preparation course is benefitial."
   ]
  }
 ],
 "metadata": {
  "kernelspec": {
   "display_name": "mlproj1env",
   "language": "python",
   "name": "python3"
  },
  "language_info": {
   "codemirror_mode": {
    "name": "ipython",
    "version": 3
   },
   "file_extension": ".py",
   "mimetype": "text/x-python",
   "name": "python",
   "nbconvert_exporter": "python",
   "pygments_lexer": "ipython3",
   "version": "3.12.3"
  }
 },
 "nbformat": 4,
 "nbformat_minor": 2
}
